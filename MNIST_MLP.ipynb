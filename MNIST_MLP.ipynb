{
 "cells": [
  {
   "cell_type": "code",
   "execution_count": 2,
   "metadata": {},
   "outputs": [],
   "source": [
    "import numpy as np\n",
    "import matplotlib.pyplot as plt\n",
    "import tensorflow as tf\n",
    "# from tqdm import trange\n",
    "from tqdm import tqdm\n",
    "import os\n",
    "from sklearn.model_selection import train_test_split\n"
   ]
  },
  {
   "cell_type": "code",
   "execution_count": 3,
   "metadata": {},
   "outputs": [
    {
     "name": "stdout",
     "output_type": "stream",
     "text": [
      "(60000, 28, 28)\n",
      "(10000, 28, 28)\n"
     ]
    }
   ],
   "source": [
    "(train_images, train_labels), (test_images, test_labels),  = tf.keras.datasets.mnist.load_data()\n",
    "\n",
    "np.random.seed(5643)\n",
    "\n",
    "# train_images, val_images, train_labels, val_labels = train_test_split(train_images, train_labels, test_size=0.1)\n",
    "\n",
    "\n",
    "print(train_images.shape)\n",
    "print(test_images.shape)\n",
    "# print(val_images.shape)\n",
    "\n",
    "\n",
    "\n"
   ]
  },
  {
   "cell_type": "code",
   "execution_count": 5,
   "metadata": {},
   "outputs": [
    {
     "name": "stdout",
     "output_type": "stream",
     "text": [
      "(60000, 28, 28)\n",
      "(10000, 28, 28)\n"
     ]
    },
    {
     "data": {
      "image/png": "[encoded data removed]",
      "text/plain": [
       "<Figure size 250x250 with 2 Axes>"
      ]
     },
     "metadata": {},
     "output_type": "display_data"
    },
    {
     "data": {
      "text/plain": [
       "255"
      ]
     },
     "execution_count": 5,
     "metadata": {},
     "output_type": "execute_result"
    }
   ],
   "source": [
    "print(train_images.shape)\n",
    "print(test_images.shape)\n",
    "\n",
    "fig, axs = plt.subplots(figsize=(2.5, 2.5))\n",
    "img = axs.imshow(train_images[2,:,:], cmap=\"gray\")\n",
    "plt.colorbar(img, ax=axs)\n",
    "plt.show()\n",
    "\n",
    "np.max(train_images[0,:,:])"
   ]
  },
  {
   "cell_type": "code",
   "execution_count": null,
   "metadata": {},
   "outputs": [],
   "source": [
    "# Create a simple MLP model\n",
    "model = tf.keras.Sequential([\n",
    "    tf.keras.layers.Flatten(input_shape=(28,28)),\n",
    "    tf.keras.layers.Dense(128, activation='relu'),\n",
    "    tf.keras.layers.Dense(64, activation='relu'),\n",
    "    tf.keras.layers.Dense(10, activation='softmax')\n",
    "])\n",
    "\n",
    "\n",
    "\n",
    "# Create the optimizer with a custom learning rate\n",
    "# optimizer = tf.keras.optimizers.legacy.Adam(learning_rate=0.001)\n",
    "\n",
    "\n",
    "# Compile the model\n",
    "model.compile(optimizer='adam',\n",
    "              loss='sparse_categorical_crossentropy',  # Use 'sparse_categorical_crossentropy' for integer labels\n",
    "              # loss='binary_crossentropy',  # Binary cross-entropy for binary classification (NOT VALID FOR THIS CASE)\n",
    "              metrics=['accuracy'])\n",
    "\n",
    "# Print a summary of the model's architecture\n",
    "model.summary()\n",
    "\n"
   ]
  },
  {
   "cell_type": "code",
   "execution_count": null,
   "metadata": {},
   "outputs": [],
   "source": [
    "# scale the data\n",
    "train_images, test_images = train_images / 255.0, test_images / 255.0\n",
    "\n",
    "\n",
    "# # Train the model\n",
    "# model.fit(train_images, train_labels, epochs=50, batch_size=64)\n",
    "\n",
    "\n",
    "epochs = 20\n",
    "pbar = tqdm(total=epochs, desc='Training Progress')\n",
    "\n",
    "# Train the model\n",
    "for epoch in range(epochs):\n",
    "\n",
    "    history = model.fit(train_images, train_labels, epochs=1, batch_size=64, verbose=0)\n",
    "    \n",
    "    # Get the loss and accuracy from the training history\n",
    "    loss = history.history['loss'][0]\n",
    "    accuracy = history.history['accuracy'][0]\n",
    "    \n",
    "    # Update the tqdm progress bar\n",
    "    pbar.update(1)\n",
    "    pbar.set_postfix({'Loss': loss, 'Accuracy': accuracy})\n",
    "\n",
    "\n",
    "# Evaluate the model on the test data\n",
    "test_loss, test_acc = model.evaluate(test_images, test_labels, verbose=0)\n",
    "print(f\"Test accuracy: {test_acc}\")\n"
   ]
  },
  {
   "cell_type": "code",
   "execution_count": null,
   "metadata": {},
   "outputs": [],
   "source": []
  }
 ],
 "metadata": {
  "kernelspec": {
   "display_name": "tensorflowV2",
   "language": "python",
   "name": "python3"
  },
  "language_info": {
   "codemirror_mode": {
    "name": "ipython",
    "version": 3
   },
   "file_extension": ".py",
   "mimetype": "text/x-python",
   "name": "python",
   "nbconvert_exporter": "python",
   "pygments_lexer": "ipython3",
   "version": "3.11.5"
  },
  "orig_nbformat": 4
 },
 "nbformat": 4,
 "nbformat_minor": 2
}
